{
 "cells": [
  {
   "cell_type": "code",
   "execution_count": 1,
   "id": "911efdbd-bbeb-4ac5-953b-b416d175c995",
   "metadata": {},
   "outputs": [],
   "source": [
    "import pickle\n",
    "from flair.models import SequenceTagger\n",
    "from flair.datasets import CONLL_03"
   ]
  },
  {
   "cell_type": "code",
   "execution_count": 2,
   "id": "b949d390-63c9-4e6d-9252-3f5c10153430",
   "metadata": {},
   "outputs": [
    {
     "name": "stdout",
     "output_type": "stream",
     "text": [
      "2023-03-15 21:19:07,618 Reading data from conll_03\n",
      "2023-03-15 21:19:07,619 Train: conll_03/eng.train\n",
      "2023-03-15 21:19:07,619 Dev: conll_03/eng.dev\n",
      "2023-03-15 21:19:07,619 Test: conll_03/eng.test\n",
      "Corpus: 14987 train + 3466 dev + 3684 test sentences\n"
     ]
    },
    {
     "data": {
      "text/plain": [
       "Sentence: \"BRUSSELS 1996-08-22\"   [− Tokens: 2  − Token-Labels: \"BRUSSELS <NNP/B-NP/S-LOC> 1996-08-22 <CD/I-NP>\"]"
      ]
     },
     "execution_count": 2,
     "metadata": {},
     "output_type": "execute_result"
    }
   ],
   "source": [
    "corpus = CONLL_03(base_path='./',encoding= 'latin-1' )\n",
    "print(corpus)\n",
    "corpus.train[3]"
   ]
  },
  {
   "cell_type": "code",
   "execution_count": 3,
   "id": "b0f60a6a-600f-48b1-82fb-26b8ffd70d55",
   "metadata": {},
   "outputs": [
    {
     "name": "stderr",
     "output_type": "stream",
     "text": [
      "/home/research/.pyenv/versions/miniconda3-4.7.12/envs/qi-py38/lib/python3.8/site-packages/huggingface_hub/file_download.py:588: FutureWarning: `cached_download` is the legacy way to download files from the HF hub, please consider upgrading to `hf_hub_download`\n",
      "  warnings.warn(\n"
     ]
    },
    {
     "name": "stdout",
     "output_type": "stream",
     "text": [
      "2023-03-15 21:19:14,829 loading file /home/research/.flair/models/ner-english-large/07301f59bb8cb113803be316267f06ddf9243cdbba92a4c8067ef92442d2c574.554244d3476d97501a766a98078421817b14654496b86f2f7bd139dc502a4f29\n",
      "\n",
      "Results:\n",
      "- F-score (micro) 0.928\n",
      "- F-score (macro) 0.9202\n",
      "- Accuracy 0.8986\n",
      "\n",
      "By class:\n",
      "              precision    recall  f1-score   support\n",
      "\n",
      "         ORG     0.8780    0.9398    0.9078      1661\n",
      "         LOC     0.9454    0.8927    0.9183      1668\n",
      "         PER     0.9876    0.9827    0.9851      1617\n",
      "        MISC     0.8523    0.8875    0.8695       702\n",
      "\n",
      "   micro avg     0.9243    0.9317    0.9280      5648\n",
      "   macro avg     0.9158    0.9257    0.9202      5648\n",
      "weighted avg     0.9261    0.9317    0.9283      5648\n",
      " samples avg     0.8986    0.8986    0.8986      5648\n",
      "\n"
     ]
    }
   ],
   "source": [
    "results = {}\n",
    "tagger = SequenceTagger.load(\"flair/ner-english-large\")\n",
    "\n",
    "results['ner-english-large'] = tagger.evaluate(corpus.test,gold_label_type='ner',mini_batch_size=16)\n",
    "print(results['ner-english-large'].detailed_results)\n",
    "\n",
    "with open('resources/eval_results.pickle', 'wb') as handle:\n",
    "    pickle.dump(results, handle, protocol=pickle.HIGHEST_PROTOCOL)"
   ]
  },
  {
   "cell_type": "code",
   "execution_count": 5,
   "id": "ca836ac6-9457-4b47-a6bf-30f55cb24522",
   "metadata": {},
   "outputs": [
    {
     "name": "stdout",
     "output_type": "stream",
     "text": [
      "2023-03-15 21:20:34,115 loading file resources/en_taggers/kd_bilstmcrf_64ep/best-model.pt\n",
      "\n",
      "Results:\n",
      "- F-score (micro) 0.8899\n",
      "- F-score (macro) 0.8807\n",
      "- Accuracy 0.848\n",
      "\n",
      "By class:\n",
      "              precision    recall  f1-score   support\n",
      "\n",
      "         ORG     0.8329    0.8675    0.8499      1661\n",
      "         LOC     0.9172    0.8765    0.8964      1668\n",
      "         PER     0.9554    0.9542    0.9548      1617\n",
      "        MISC     0.8299    0.8134    0.8216       702\n",
      "\n",
      "   micro avg     0.8916    0.8883    0.8899      5648\n",
      "   macro avg     0.8839    0.8779    0.8807      5648\n",
      "weighted avg     0.8925    0.8883    0.8901      5648\n",
      " samples avg     0.8480    0.8480    0.8480      5648\n",
      "\n"
     ]
    }
   ],
   "source": [
    "with open('resources/eval_results.pickle', 'rb') as handle:\n",
    "    results = pickle.load(handle)\n",
    "    \n",
    "tagger = SequenceTagger.load('resources/en_taggers/kd_bilstmcrf_64ep/best-model.pt')\n",
    "results['kd_bilstmcrf_64ep'] = tagger.evaluate(corpus.test,gold_label_type='ner',mini_batch_size=16)\n",
    "print(results['kd_bilstmcrf_64ep'].detailed_results)\n",
    "\n",
    "with open('resources/eval_results.pickle', 'wb') as handle:\n",
    "    pickle.dump(results, handle, protocol=pickle.HIGHEST_PROTOCOL)"
   ]
  }
 ],
 "metadata": {
  "kernelspec": {
   "display_name": "Python 3",
   "language": "python",
   "name": "python3"
  },
  "language_info": {
   "codemirror_mode": {
    "name": "ipython",
    "version": 3
   },
   "file_extension": ".py",
   "mimetype": "text/x-python",
   "name": "python",
   "nbconvert_exporter": "python",
   "pygments_lexer": "ipython3",
   "version": "3.8.13"
  }
 },
 "nbformat": 4,
 "nbformat_minor": 5
}
