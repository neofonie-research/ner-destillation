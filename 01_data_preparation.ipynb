{
 "cells": [
  {
   "cell_type": "code",
   "execution_count": 1,
   "id": "9bbb133d-7e80-4ef5-a069-817180017bbe",
   "metadata": {},
   "outputs": [],
   "source": [
    "# install flair and other libraries inside jupyter notebook with the correct environment\n",
    "# note that we are using flair version 0.10\n",
    "import sys\n",
    "!{sys.executable} -m pip install flair==0.10 -q"
   ]
  },
  {
   "cell_type": "code",
   "execution_count": 2,
   "id": "91b28f48-e64f-4402-b0df-ff1f8f736af5",
   "metadata": {},
   "outputs": [
    {
     "name": "stdout",
     "output_type": "stream",
     "text": [
      "current version of flair: 0.10\n"
     ]
    }
   ],
   "source": [
    "# import other libiaries\n",
    "import json\n",
    "import numpy as np\n",
    "import pickle\n",
    "import flair\n",
    "import json\n",
    "import random\n",
    "from tqdm import tqdm\n",
    "import matplotlib.pyplot as plt\n",
    "from collections import Counter\n",
    "print('current version of flair:', flair.__version__)\n",
    "from flair.models import SequenceTagger\n",
    "from flair.data import Sentence,Label"
   ]
  },
  {
   "cell_type": "code",
   "execution_count": 3,
   "id": "a32b1611-6457-427e-8bff-777b10aa5029",
   "metadata": {},
   "outputs": [],
   "source": [
    "# define some functions to calculate label distributions in the dataset\n",
    "def count_ner_labels(sentences):\n",
    "    all_labels = []\n",
    "    count_nolabel_sents = 0\n",
    "    for sent in sentences:\n",
    "        sent_labels = []\n",
    "        for token in sent:\n",
    "            label = token.get_tag('ner').value\n",
    "            sent_labels.append(label[2:])\n",
    "        if (set(sent_labels) == set([''])):\n",
    "            count_nolabel_sents += 1\n",
    "            sent_labels = []\n",
    "        all_labels += sent_labels\n",
    "        \n",
    "    n = round(count_nolabel_sents / len(sentences),3) * 100\n",
    "    print(f'{n}% of the sentences has no label in the training set')\n",
    "    \n",
    "    return all_labels\n",
    "\n",
    "def plot_label_dist(sentences):\n",
    "    # check label distribution of labaled data by the teacher model\n",
    "    all_labels = count_ner_labels(sentences)\n",
    "    label_counts = Counter(all_labels)\n",
    "    value = label_counts.pop('')\n",
    "    label_counts.update({'O': value})\n",
    "    \n",
    "    perc = np.array(list(label_counts.values())) / sum(label_counts.values()) * 100\n",
    "    print('For sentences with identified entities, the label distribution are as illustrated as follows:')\n",
    "    print({k:str(round(n,2))+'%' for k,n in zip(label_counts.keys(),perc)})\n",
    "\n",
    "    fig, ax = plt.subplots()\n",
    "    total = sum(label_counts.values())\n",
    "    ax.bar(label_counts.keys(),height= label_counts.values())\n",
    "    for i, v in enumerate(label_counts.values()):\n",
    "        ax.text(i, v+1, f\"{v/total*100:.1f}%\", ha='center')    \n",
    "    ax.set_ylabel('number of label counts (token level)')\n",
    "    ax.set_yscale(\"log\")"
   ]
  },
  {
   "cell_type": "markdown",
   "id": "968058a7-3d71-47aa-8f6f-dc7a0d4f2177",
   "metadata": {
    "tags": []
   },
   "source": [
    "## Load unlabled data\n",
    "\n",
    "the data is obtainable at https://www.kaggle.com/datasets/hadasu92/cnn-articles-after-basic-cleaning "
   ]
  },
  {
   "cell_type": "code",
   "execution_count": 4,
   "id": "0cf5b254-fa49-4951-b78c-510299ea6804",
   "metadata": {},
   "outputs": [
    {
     "data": {
      "text/html": [
       "<div>\n",
       "<style scoped>\n",
       "    .dataframe tbody tr th:only-of-type {\n",
       "        vertical-align: middle;\n",
       "    }\n",
       "\n",
       "    .dataframe tbody tr th {\n",
       "        vertical-align: top;\n",
       "    }\n",
       "\n",
       "    .dataframe thead th {\n",
       "        text-align: right;\n",
       "    }\n",
       "</style>\n",
       "<table border=\"1\" class=\"dataframe\">\n",
       "  <thead>\n",
       "    <tr style=\"text-align: right;\">\n",
       "      <th></th>\n",
       "      <th>Index</th>\n",
       "      <th>Author</th>\n",
       "      <th>Date published</th>\n",
       "      <th>Category</th>\n",
       "      <th>Section</th>\n",
       "      <th>Url</th>\n",
       "      <th>Headline</th>\n",
       "      <th>Description</th>\n",
       "      <th>Keywords</th>\n",
       "      <th>Second headline</th>\n",
       "      <th>Article text</th>\n",
       "    </tr>\n",
       "  </thead>\n",
       "  <tbody>\n",
       "    <tr>\n",
       "      <th>0</th>\n",
       "      <td>0</td>\n",
       "      <td>Jacopo Prisco, CNN</td>\n",
       "      <td>2021-07-15 02:46:59</td>\n",
       "      <td>news</td>\n",
       "      <td>world</td>\n",
       "      <td>https://www.cnn.com/2021/07/14/world/tusimple-...</td>\n",
       "      <td>There's a shortage of truckers, but TuSimple t...</td>\n",
       "      <td>The e-commerce boom has exacerbated a global t...</td>\n",
       "      <td>world, There's a shortage of truckers, but TuS...</td>\n",
       "      <td>There's a shortage of truckers, but TuSimple t...</td>\n",
       "      <td>(CNN)Right now, there's a shortage of truck d...</td>\n",
       "    </tr>\n",
       "    <tr>\n",
       "      <th>1</th>\n",
       "      <td>1</td>\n",
       "      <td>Stephanie Bailey, CNN</td>\n",
       "      <td>2021-05-12 07:52:09</td>\n",
       "      <td>news</td>\n",
       "      <td>world</td>\n",
       "      <td>https://www.cnn.com/2021/05/12/world/ironhand-...</td>\n",
       "      <td>Bioservo's robotic 'Ironhand' could protect fa...</td>\n",
       "      <td>Working in a factory can mean doing the same t...</td>\n",
       "      <td>world, Bioservo's robotic 'Ironhand' could pro...</td>\n",
       "      <td>A robotic 'Ironhand' could protect factory wor...</td>\n",
       "      <td>(CNN)Working in a factory or warehouse can me...</td>\n",
       "    </tr>\n",
       "    <tr>\n",
       "      <th>2</th>\n",
       "      <td>2</td>\n",
       "      <td>Words by Stephanie Bailey, video by Zahra Jamshed</td>\n",
       "      <td>2021-06-16 02:51:30</td>\n",
       "      <td>news</td>\n",
       "      <td>asia</td>\n",
       "      <td>https://www.cnn.com/2021/06/15/asia/swarm-robo...</td>\n",
       "      <td>This swarm of robots gets smarter the more it ...</td>\n",
       "      <td>In a Hong Kong warehouse, a swarm of autonomou...</td>\n",
       "      <td>asia, This swarm of robots gets smarter the mo...</td>\n",
       "      <td>This swarm of robots gets smarter the more it ...</td>\n",
       "      <td>(CNN)In a Hong Kong warehouse, a swarm of aut...</td>\n",
       "    </tr>\n",
       "    <tr>\n",
       "      <th>3</th>\n",
       "      <td>3</td>\n",
       "      <td>Kathryn Vasel</td>\n",
       "      <td>2022-03-18 14:37:21</td>\n",
       "      <td>business</td>\n",
       "      <td>success</td>\n",
       "      <td>https://www.cnn.com/2022/03/18/success/pandemi...</td>\n",
       "      <td>Two years later, remote work has changed milli...</td>\n",
       "      <td>Here's a look at how the pandemic reshaped peo...</td>\n",
       "      <td>success, Two years later, remote work has chan...</td>\n",
       "      <td>Two years later, remote work has changed milli...</td>\n",
       "      <td>The pandemic thrust the working world into a n...</td>\n",
       "    </tr>\n",
       "    <tr>\n",
       "      <th>4</th>\n",
       "      <td>4</td>\n",
       "      <td>Paul R. La Monica, CNN Business</td>\n",
       "      <td>2022-03-19 11:41:08</td>\n",
       "      <td>business</td>\n",
       "      <td>investing</td>\n",
       "      <td>https://www.cnn.com/2022/03/19/investing/march...</td>\n",
       "      <td>Why March is so volatile for stocks - CNN</td>\n",
       "      <td>March Madness isn't just for college basketbal...</td>\n",
       "      <td>investing, Why March is so volatile for stocks...</td>\n",
       "      <td>Why March is so volatile for stocks</td>\n",
       "      <td>New York (CNN Business)March Madness isn't jus...</td>\n",
       "    </tr>\n",
       "  </tbody>\n",
       "</table>\n",
       "</div>"
      ],
      "text/plain": [
       "   Index                                             Author  \\\n",
       "0      0                                 Jacopo Prisco, CNN   \n",
       "1      1                              Stephanie Bailey, CNN   \n",
       "2      2  Words by Stephanie Bailey, video by Zahra Jamshed   \n",
       "3      3                                     Kathryn Vasel    \n",
       "4      4                    Paul R. La Monica, CNN Business   \n",
       "\n",
       "        Date published  Category    Section  \\\n",
       "0  2021-07-15 02:46:59      news      world   \n",
       "1  2021-05-12 07:52:09      news      world   \n",
       "2  2021-06-16 02:51:30      news       asia   \n",
       "3  2022-03-18 14:37:21  business    success   \n",
       "4  2022-03-19 11:41:08  business  investing   \n",
       "\n",
       "                                                 Url  \\\n",
       "0  https://www.cnn.com/2021/07/14/world/tusimple-...   \n",
       "1  https://www.cnn.com/2021/05/12/world/ironhand-...   \n",
       "2  https://www.cnn.com/2021/06/15/asia/swarm-robo...   \n",
       "3  https://www.cnn.com/2022/03/18/success/pandemi...   \n",
       "4  https://www.cnn.com/2022/03/19/investing/march...   \n",
       "\n",
       "                                            Headline  \\\n",
       "0  There's a shortage of truckers, but TuSimple t...   \n",
       "1  Bioservo's robotic 'Ironhand' could protect fa...   \n",
       "2  This swarm of robots gets smarter the more it ...   \n",
       "3  Two years later, remote work has changed milli...   \n",
       "4          Why March is so volatile for stocks - CNN   \n",
       "\n",
       "                                         Description  \\\n",
       "0  The e-commerce boom has exacerbated a global t...   \n",
       "1  Working in a factory can mean doing the same t...   \n",
       "2  In a Hong Kong warehouse, a swarm of autonomou...   \n",
       "3  Here's a look at how the pandemic reshaped peo...   \n",
       "4  March Madness isn't just for college basketbal...   \n",
       "\n",
       "                                            Keywords  \\\n",
       "0  world, There's a shortage of truckers, but TuS...   \n",
       "1  world, Bioservo's robotic 'Ironhand' could pro...   \n",
       "2  asia, This swarm of robots gets smarter the mo...   \n",
       "3  success, Two years later, remote work has chan...   \n",
       "4  investing, Why March is so volatile for stocks...   \n",
       "\n",
       "                                     Second headline  \\\n",
       "0  There's a shortage of truckers, but TuSimple t...   \n",
       "1  A robotic 'Ironhand' could protect factory wor...   \n",
       "2  This swarm of robots gets smarter the more it ...   \n",
       "3  Two years later, remote work has changed milli...   \n",
       "4                Why March is so volatile for stocks   \n",
       "\n",
       "                                        Article text  \n",
       "0   (CNN)Right now, there's a shortage of truck d...  \n",
       "1   (CNN)Working in a factory or warehouse can me...  \n",
       "2   (CNN)In a Hong Kong warehouse, a swarm of aut...  \n",
       "3  The pandemic thrust the working world into a n...  \n",
       "4  New York (CNN Business)March Madness isn't jus...  "
      ]
     },
     "execution_count": 4,
     "metadata": {},
     "output_type": "execute_result"
    }
   ],
   "source": [
    "import pandas as pd\n",
    "cnn_news = pd.read_csv('CNN_Articels_clean.csv',skiprows=[5464]) # skip one corrupt row \n",
    "cnn_news.head()"
   ]
  },
  {
   "cell_type": "code",
   "execution_count": 6,
   "id": "3a6733d3-839a-4c50-92d4-3a4491b5c20c",
   "metadata": {},
   "outputs": [
    {
     "name": "stdout",
     "output_type": "stream",
     "text": [
      "Number of sentences: 13634\n"
     ]
    },
    {
     "data": {
      "image/png": "[encoded data removed]",
      "text/plain": [
       "<Figure size 432x288 with 1 Axes>"
      ]
     },
     "metadata": {
      "needs_background": "light"
     },
     "output_type": "display_data"
    }
   ],
   "source": [
    "sentences_nolabel  = list(cnn_news.loc[:,'Description']) + list(cnn_news.loc[:,'Headline']) + list(cnn_news.loc[:,'Second headline'])\n",
    "\n",
    "# optional: randomly remove some short sentences, the hash value depends on each individual sentences, and thus provides reproducibility.\n",
    "random_numbers = [hash(s) % 100 for s in sentences_nolabel]\n",
    "sentences_nolabel = [s for s, r in zip(sentences_nolabel, random_numbers) if len(s) >= 70 or r < 50]\n",
    "print('Number of sentences:',len(sentences_nolabel))\n",
    "\n",
    "_ = plt.hist([len(s) for s in sentences_nolabel])\n",
    "_ = plt.title('sentence length distribution in the dataset')\n",
    "_ = plt.xlabel('sentence length in the dataset (character count)'); _ = plt.ylabel('number of sentences')"
   ]
  },
  {
   "cell_type": "code",
   "execution_count": 7,
   "id": "75c199ef-1863-48a4-97c5-3f3857aa704d",
   "metadata": {},
   "outputs": [
    {
     "name": "stdout",
     "output_type": "stream",
     "text": [
      "13634\n",
      "Opinion: Surging food prices are hurting those who can least afford it. This is what needs to happen - CNN\n"
     ]
    }
   ],
   "source": [
    "# optional: shuffle the filtered sentences\n",
    "random.seed(123)\n",
    "random.shuffle(sentences_nolabel)\n",
    "print(len(sentences_nolabel))\n",
    "print(sentences_nolabel[0])"
   ]
  },
  {
   "cell_type": "code",
   "execution_count": 21,
   "id": "3ecffd03-00f2-4842-8e87-bbaebd57f2d8",
   "metadata": {},
   "outputs": [],
   "source": [
    "# optional: write the selected sentences as json file for easier data loading for potential future use\n",
    "with open('sentences.json','w') as f:\n",
    "    json.dump(sentences_nolabel, f)\n",
    "\n",
    "with open('sentences.json','r') as f:\n",
    "    sentences_nolabel = json.load(f)"
   ]
  },
  {
   "cell_type": "code",
   "execution_count": 8,
   "id": "cc746264-3f69-44cd-960e-6cea6b614dad",
   "metadata": {},
   "outputs": [
    {
     "name": "stderr",
     "output_type": "stream",
     "text": [
      "/home/research/.pyenv/versions/miniconda3-4.7.12/envs/qi-py38/lib/python3.8/site-packages/huggingface_hub/file_download.py:588: FutureWarning: `cached_download` is the legacy way to download files from the HF hub, please consider upgrading to `hf_hub_download`\n",
      "  warnings.warn(\n"
     ]
    },
    {
     "name": "stdout",
     "output_type": "stream",
     "text": [
      "2023-03-15 20:24:07,997 loading file /home/research/.flair/models/ner-english-large/07301f59bb8cb113803be316267f06ddf9243cdbba92a4c8067ef92442d2c574.554244d3476d97501a766a98078421817b14654496b86f2f7bd139dc502a4f29\n"
     ]
    }
   ],
   "source": [
    "# load teacher model to tag the dataset\n",
    "teacher = SequenceTagger.load(\"flair/ner-english-large\")"
   ]
  },
  {
   "cell_type": "code",
   "execution_count": 9,
   "id": "4e5ad849-a173-4150-be54-77d15fce49c8",
   "metadata": {},
   "outputs": [
    {
     "name": "stdout",
     "output_type": "stream",
     "text": [
      "Dictionary with 20 tags: <unk>, O, S-ORG, S-MISC, B-PER, E-PER, S-LOC, B-ORG, E-ORG, I-PER, S-PER, B-MISC, I-MISC, E-MISC, I-ORG, B-LOC, E-LOC, I-LOC, <START>, <STOP>\n"
     ]
    }
   ],
   "source": [
    "# export the tag dictionary of the teacher model, to use it later on the student model\n",
    "dictionary = teacher.tag_dictionary\n",
    "print(dictionary)\n",
    "with open('ner_english_large_dictionary.pickle', 'wb') as handle:\n",
    "    pickle.dump(dictionary, handle, protocol=pickle.HIGHEST_PROTOCOL)"
   ]
  },
  {
   "cell_type": "code",
   "execution_count": 10,
   "id": "fcac3d24-3e97-4f20-bbfd-7e3cba21222f",
   "metadata": {},
   "outputs": [
    {
     "name": "stderr",
     "output_type": "stream",
     "text": [
      "100%|██████████| 13634/13634 [03:27<00:00, 65.69it/s]\n"
     ]
    }
   ],
   "source": [
    "# tag raw news data with the teacher model\n",
    "sentences_wlabel_13k = []\n",
    "for sentence in tqdm(sentences_nolabel):\n",
    "    sent = Sentence(sentence)\n",
    "    teacher.predict(sent)\n",
    "    sentences_wlabel_13k.append(sent)"
   ]
  },
  {
   "cell_type": "code",
   "execution_count": 35,
   "id": "7a0b1de3-fdfa-4077-bb96-d9ee4d3adc1f",
   "metadata": {},
   "outputs": [
    {
     "name": "stdout",
     "output_type": "stream",
     "text": [
      "8.3% of the sentences has no label in the training set\n",
      "For sentences with identified entities, the label distribution are as illustrated as follows:\n",
      "{'ORG': '3.95%', 'MISC': '3.84%', 'PER': '5.22%', 'LOC': '3.34%', 'O': '83.65%'}\n"
     ]
    },
    {
     "data": {
      "image/png": "[encoded data removed]",
      "text/plain": [
       "<Figure size 432x288 with 1 Axes>"
      ]
     },
     "metadata": {
      "needs_background": "light"
     },
     "output_type": "display_data"
    }
   ],
   "source": [
    "# check label distribution of labaled data by the teacher model\n",
    "plot_label_dist(sentences_wlabel_13k)"
   ]
  },
  {
   "cell_type": "markdown",
   "id": "0bb74290-a133-4dba-9449-12f935b0dbcc",
   "metadata": {
    "tags": []
   },
   "source": [
    "## Load CONLL_03 (English)\n",
    "\n",
    "CONLL_03 is a labeled dataset for named entity recognition\n",
    "\n",
    "The data can be found here https://www.clips.uantwerpen.be/conll2003/ner/ \n",
    "\n",
    "or download directly from kaggle: https://www.kaggle.com/datasets/henavajov/conll2003\n",
    "\n"
   ]
  },
  {
   "cell_type": "code",
   "execution_count": 12,
   "id": "137fb7d6-eb3e-4f03-9d55-0bc322d56b34",
   "metadata": {},
   "outputs": [
    {
     "name": "stdout",
     "output_type": "stream",
     "text": [
      "2023-03-15 20:29:34,526 Reading data from conll_03\n",
      "2023-03-15 20:29:34,526 Train: conll_03/eng.train\n",
      "2023-03-15 20:29:34,526 Dev: conll_03/eng.dev\n",
      "2023-03-15 20:29:34,527 Test: conll_03/eng.test\n",
      "Corpus: 14987 train + 3466 dev + 3684 test sentences\n"
     ]
    },
    {
     "data": {
      "text/plain": [
       "Sentence: \"BRUSSELS 1996-08-22\"   [− Tokens: 2  − Token-Labels: \"BRUSSELS <NNP/B-NP/S-LOC> 1996-08-22 <CD/I-NP>\"]"
      ]
     },
     "execution_count": 12,
     "metadata": {},
     "output_type": "execute_result"
    }
   ],
   "source": [
    "from flair.datasets import CONLL_03\n",
    "corpus = CONLL_03(base_path='./',encoding= 'latin-1' )\n",
    "print(corpus)\n",
    "corpus.train[3]"
   ]
  },
  {
   "cell_type": "code",
   "execution_count": 13,
   "id": "f365dd90-47b7-47ad-818c-f3f1a7a5d814",
   "metadata": {},
   "outputs": [
    {
     "data": {
      "image/png": "[encoded data removed]",
      "text/plain": [
       "<Figure size 432x288 with 1 Axes>"
      ]
     },
     "metadata": {
      "needs_background": "light"
     },
     "output_type": "display_data"
    }
   ],
   "source": [
    "# check sentence length in the dataset\n",
    "_ = plt.hist([len(s.to_original_text()) for s in corpus.train])\n",
    "_ = plt.title('sentence length distribution in the dataset')\n",
    "_ = plt.xlabel('sentence length in the dataset (character count)'); _ = plt.ylabel('number of sentences')"
   ]
  },
  {
   "cell_type": "code",
   "execution_count": 36,
   "id": "eb4a093c-a1cc-4a51-98e0-547c59de24fa",
   "metadata": {},
   "outputs": [
    {
     "name": "stdout",
     "output_type": "stream",
     "text": [
      "25.7% of the sentences has no label in the training set\n",
      "For sentences with identified entities, the label distribution are as illustrated as follows:\n",
      "{'ORG': '5.84%', 'MISC': '2.67%', 'PER': '6.48%', 'LOC': '4.83%', 'O': '80.18%'}\n"
     ]
    },
    {
     "data": {
      "image/png": "[encoded data removed]",
      "text/plain": [
       "<Figure size 432x288 with 1 Axes>"
      ]
     },
     "metadata": {
      "needs_background": "light"
     },
     "output_type": "display_data"
    }
   ],
   "source": [
    "plot_label_dist(corpus.train)"
   ]
  },
  {
   "cell_type": "code",
   "execution_count": 15,
   "id": "fb0d5fd6-62db-4b4b-ba51-d2db6595ce1f",
   "metadata": {},
   "outputs": [
    {
     "name": "stderr",
     "output_type": "stream",
     "text": [
      "100%|██████████| 14987/14987 [03:31<00:00, 70.71it/s]\n"
     ]
    }
   ],
   "source": [
    "# tag the training set of conll dataset with teacher model\n",
    "# note: since the teacher model is already very good at ner prediction, the difference is minimal here compared to the graph above\n",
    "train_conll = []\n",
    "for sentence in tqdm(corpus.train):\n",
    "    sent = Sentence(sentence.to_original_text())\n",
    "    teacher.predict(sent)\n",
    "    train_conll.append(sent)"
   ]
  },
  {
   "cell_type": "code",
   "execution_count": 37,
   "id": "149508dd-6c99-40cf-b594-d31060a2fd4b",
   "metadata": {},
   "outputs": [
    {
     "name": "stdout",
     "output_type": "stream",
     "text": [
      "26.200000000000003% of the sentences has no label in the training set\n",
      "For sentences with identified entities, the label distribution are as illustrated as follows:\n",
      "{'ORG': '5.97%', 'MISC': '2.55%', 'PER': '6.44%', 'LOC': '4.64%', 'O': '80.4%'}\n"
     ]
    },
    {
     "data": {
      "image/png": "[encoded data removed]",
      "text/plain": [
       "<Figure size 432x288 with 1 Axes>"
      ]
     },
     "metadata": {
      "needs_background": "light"
     },
     "output_type": "display_data"
    }
   ],
   "source": [
    "plot_label_dist(train_conll)"
   ]
  },
  {
   "cell_type": "markdown",
   "id": "512a9f57-b625-4b25-bbbf-3cf980cc164c",
   "metadata": {},
   "source": [
    "## Export pre-processed dataset"
   ]
  },
  {
   "cell_type": "code",
   "execution_count": 17,
   "id": "0247a0e4-10a1-46f6-a4f8-4bb68e944b17",
   "metadata": {},
   "outputs": [],
   "source": [
    "# combine conll training data with the labeled data by the teacher model\n",
    "random.seed(123)\n",
    "train_28k = sentences_wlabel_13k + train_conll\n",
    "random.shuffle(train_28k)"
   ]
  },
  {
   "cell_type": "code",
   "execution_count": 18,
   "id": "868e01bb-88f4-4e73-bc84-9d3030dfd13b",
   "metadata": {},
   "outputs": [],
   "source": [
    "with open('pre_processed_data/en_train_mixed_28k.pickle', 'wb') as handle:\n",
    "    pickle.dump(train_28k, handle, protocol=pickle.HIGHEST_PROTOCOL)"
   ]
  }
 ],
 "metadata": {
  "kernelspec": {
   "display_name": "Python 3",
   "language": "python",
   "name": "python3"
  },
  "language_info": {
   "codemirror_mode": {
    "name": "ipython",
    "version": 3
   },
   "file_extension": ".py",
   "mimetype": "text/x-python",
   "name": "python",
   "nbconvert_exporter": "python",
   "pygments_lexer": "ipython3",
   "version": "3.8.13"
  }
 },
 "nbformat": 4,
 "nbformat_minor": 5
}
